{
 "cells": [
  {
   "cell_type": "markdown",
   "metadata": {},
   "source": [
    "# Conditional programming (if-else)"
   ]
  },
  {
   "cell_type": "markdown",
   "metadata": {},
   "source": [
    "In computer science, **conditional statements**, conditional expressions and conditional constructs are features of a programming language, which perform different computations or actions depending on whether a programmer-specified boolean condition evaluates to true or false"
   ]
  },
  {
   "cell_type": "markdown",
   "metadata": {},
   "source": [
    "<img src=\"img/If-Then-Else-diagram.svg.png\">\n",
    "\n",
    "**source:** https://en.wikipedia.org/wiki/Conditional_(computer_programming)"
   ]
  },
  {
   "cell_type": "markdown",
   "metadata": {},
   "source": [
    "# If statement"
   ]
  },
  {
   "cell_type": "markdown",
   "metadata": {},
   "source": [
    "Elements:\n",
    "- If\n",
    "- elif (optional and can have as many as you like)\n",
    "- else (optional, can have one)\n",
    "\n",
    "There can be zero or more elif parts, and the else part is optional. The keyword ‘elif’ is\n",
    "short for ‘else if’, and is useful to avoid excessive indentation.\n",
    "An if … elif … elif … sequence is a substitute for the switch or case statements found\n",
    "in other languages."
   ]
  },
  {
   "cell_type": "code",
   "execution_count": 1,
   "metadata": {},
   "outputs": [
    {
     "name": "stdout",
     "output_type": "stream",
     "text": [
      "It's raining\n"
     ]
    }
   ],
   "source": [
    "# example 1:\n",
    "its_raining = True\n",
    "if its_raining == True:\n",
    "    print('It\\'s raining')\n",
    "else:\n",
    "    print('It\\'s not raining')"
   ]
  },
  {
   "cell_type": "code",
   "execution_count": 2,
   "metadata": {},
   "outputs": [
    {
     "name": "stdout",
     "output_type": "stream",
     "text": [
      "It's raining\n"
     ]
    }
   ],
   "source": [
    "#Note: in stead of its_raining == True, we can simply use its_raining:\n",
    "its_raining = True\n",
    "if its_raining:\n",
    "    print('It\\'s raining')\n",
    "else:\n",
    "    print('It\\'s not raining')"
   ]
  },
  {
   "cell_type": "code",
   "execution_count": 3,
   "metadata": {},
   "outputs": [
    {
     "name": "stdout",
     "output_type": "stream",
     "text": [
      "Number bigger than or equal to one\n"
     ]
    }
   ],
   "source": [
    "# example 2:\n",
    "number = 15\n",
    "conclusion = ''\n",
    "\n",
    "if number < 0:\n",
    "    conclusion = 'Number is less than zero'\n",
    "else:\n",
    "    if number == 0:\n",
    "        conclusion = 'Number equals to zero'\n",
    "    else:\n",
    "        if number < 1:\n",
    "            conclusion = 'Number is greater than zero but less than one'\n",
    "        else:\n",
    "            conclusion = 'Number bigger than or equal to one'\n",
    "\n",
    "print(conclusion)"
   ]
  },
  {
   "cell_type": "code",
   "execution_count": 4,
   "metadata": {},
   "outputs": [
    {
     "name": "stdout",
     "output_type": "stream",
     "text": [
      "Number bigger than or equal to one\n"
     ]
    }
   ],
   "source": [
    "# example 3 - including elif:\n",
    "number = 15\n",
    "conclusion = ''\n",
    "\n",
    "if number < 0:\n",
    "    conclusion = 'Number is less than zero'\n",
    "elif number == 0:\n",
    "    conclusion = 'Number equals to zero'\n",
    "elif number < 1:\n",
    "    conclusion = 'Number is greater than zero but less than one'\n",
    "else:\n",
    "    conclusion = 'Number bigger than or equal to one'\n",
    "\n",
    "print(conclusion)"
   ]
  },
  {
   "cell_type": "code",
   "execution_count": null,
   "metadata": {},
   "outputs": [],
   "source": []
  },
  {
   "cell_type": "code",
   "execution_count": null,
   "metadata": {},
   "outputs": [],
   "source": []
  },
  {
   "cell_type": "code",
   "execution_count": null,
   "metadata": {},
   "outputs": [],
   "source": []
  }
 ],
 "metadata": {
  "kernelspec": {
   "display_name": "Python 3",
   "language": "python",
   "name": "python3"
  },
  "language_info": {
   "codemirror_mode": {
    "name": "ipython",
    "version": 3
   },
   "file_extension": ".py",
   "mimetype": "text/x-python",
   "name": "python",
   "nbconvert_exporter": "python",
   "pygments_lexer": "ipython3",
   "version": "3.7.2"
  },
  "varInspector": {
   "cols": {
    "lenName": 16,
    "lenType": 16,
    "lenVar": 40
   },
   "kernels_config": {
    "python": {
     "delete_cmd_postfix": "",
     "delete_cmd_prefix": "del ",
     "library": "var_list.py",
     "varRefreshCmd": "print(var_dic_list())"
    },
    "r": {
     "delete_cmd_postfix": ") ",
     "delete_cmd_prefix": "rm(",
     "library": "var_list.r",
     "varRefreshCmd": "cat(var_dic_list()) "
    }
   },
   "types_to_exclude": [
    "module",
    "function",
    "builtin_function_or_method",
    "instance",
    "_Feature"
   ],
   "window_display": false
  }
 },
 "nbformat": 4,
 "nbformat_minor": 2
}
